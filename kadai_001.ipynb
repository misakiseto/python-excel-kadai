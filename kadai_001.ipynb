{
  "nbformat": 4,
  "nbformat_minor": 0,
  "metadata": {
    "colab": {
      "provenance": []
    },
    "kernelspec": {
      "name": "python3",
      "display_name": "Python 3"
    },
    "language_info": {
      "name": "python"
    }
  },
  "cells": [
    {
      "cell_type": "code",
      "source": [
        "pip install openpyxl"
      ],
      "metadata": {
        "colab": {
          "base_uri": "https://localhost:8080/"
        },
        "id": "nxNKGXdHHsYQ",
        "outputId": "2be3c8aa-f3ca-4ba7-831f-d7a353adcbae"
      },
      "execution_count": null,
      "outputs": [
        {
          "output_type": "stream",
          "name": "stdout",
          "text": [
            "Requirement already satisfied: openpyxl in /usr/local/lib/python3.10/dist-packages (3.1.5)\n",
            "Requirement already satisfied: et-xmlfile in /usr/local/lib/python3.10/dist-packages (from openpyxl) (1.1.0)\n"
          ]
        }
      ]
    },
    {
      "cell_type": "code",
      "source": [
        "import openpyxl\n",
        "from datetime import datetime\n",
        "from openpyxl.styles import Font\n",
        "\n",
        "wb = openpyxl.Workbook()\n",
        "ws = wb.active\n",
        "\n",
        "current_data = datetime.now().strftime(\"%Y%m%d\")\n",
        "current_data2 = datetime.now().strftime(\"%Y/%m/%d\")\n",
        "\n",
        "file_name = f'請求書_{current_data}.xlsx'\n",
        "\n",
        "\n",
        "ws[\"B2\"] = \"請求書\"\n",
        "ws[\"B4\"] = \"株式会社ＡＢＣ\"\n",
        "ws[\"B5\"] = \"〒101-0022　東京都千代田区神田練塀町300\"\n",
        "ws[\"B6\"] = \"TEL:03-1234-5678 FAX:03-1234-5678\"\n",
        "ws[\"B7\"] = \"担当者名:鈴木一郎 様\"\n",
        "ws[\"F4\"] = \"№\"\n",
        "ws[\"G4\"] = \"0001\"\n",
        "ws[\"F5\"] = \"日付\"\n",
        "ws[\"G5\"] = current_data2\n",
        "\n",
        "ws[\"B10\"] = \"商品名\"\n",
        "ws[\"C10\"] = \"数量\"\n",
        "ws[\"D10\"] = \"単価\"\n",
        "ws[\"E10\"] = \"金額\"\n",
        "\n",
        "data = {\n",
        "    \"商品名\":[\"商品Ａ\",\"商品Ｂ\"],\n",
        "    \"数量\":[2,1],\n",
        "    \"単価\":[10000,15000],\n",
        "}\n",
        "\n",
        "total = 0\n",
        "\n",
        "for row_index,(name,quantity,price) in enumerate(zip(data[\"商品名\"],data[\"数量\"],data[\"単価\"]),start=11):\n",
        "  ws.cell(row=row_index,column=2,value=name)\n",
        "  ws.cell(row=row_index,column=3,value=quantity)\n",
        "  ws.cell(row=row_index,column=4,value=price)\n",
        "  amoust = quantity * price\n",
        "  ws.cell(row=row_index,column=5,value=amoust)\n",
        "\n",
        "  total += amoust\n",
        "\n",
        "next_row = row_index + 1\n",
        "\n",
        "ws.cell(row=next_row,column=5,value=total)\n",
        "\n",
        "ws.cell(row=next_row + 2,column=2,value=\"合計\")\n",
        "ws.cell(row=next_row + 2,column=5,value=f\"=E{next_row}\")\n",
        "\n",
        "tax = f\"=E{next_row + 2}*0.1\"\n",
        "\n",
        "ws.cell(row=next_row + 3,column=2,value=\"消費税\")\n",
        "ws.cell(row=next_row + 3,column=5,value=tax)\n",
        "\n",
        "taxtotal = f\"=sum(E{next_row + 2}:E{next_row + 3})\"\n",
        "\n",
        "ws.cell(row=next_row + 4,column=2,value=\"税込合計\")\n",
        "ws.cell(row=next_row + 4,column=5,value=taxtotal)\n",
        "\n",
        "ws.column_dimensions[\"B\"].width = 15\n",
        "ws.column_dimensions[\"C\"].width = 10\n",
        "ws.column_dimensions[\"D\"].width = 15\n",
        "ws.column_dimensions[\"E\"].width = 15\n",
        "ws.column_dimensions[\"F\"].width = 10\n",
        "ws.column_dimensions[\"G\"].width = 15\n",
        "\n",
        "for row in ws[\"D11:E17\"]:\n",
        "  for cell in row:\n",
        "    cell.number_format = \"#,##0\"\n",
        "\n",
        "custom_font = Font(name=\"HGPｺﾞｼｯｸE\",size=11)\n",
        "\n",
        "for row in ws.iter_rows():\n",
        "    for cell in row:\n",
        "        cell.font = custom_font\n",
        "\n",
        "wb.save(file_name)\n"
      ],
      "metadata": {
        "id": "0jf94G73n0z6"
      },
      "execution_count": 45,
      "outputs": []
    },
    {
      "cell_type": "markdown",
      "source": [],
      "metadata": {
        "id": "sS78pI7gZ1_c"
      }
    }
  ]
}