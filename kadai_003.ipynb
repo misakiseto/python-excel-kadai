{
  "nbformat": 4,
  "nbformat_minor": 0,
  "metadata": {
    "colab": {
      "provenance": []
    },
    "kernelspec": {
      "name": "python3",
      "display_name": "Python 3"
    },
    "language_info": {
      "name": "python"
    }
  },
  "cells": [
    {
      "cell_type": "code",
      "execution_count": 24,
      "metadata": {
        "id": "WY2zngMW0pyP"
      },
      "outputs": [],
      "source": [
        "import pandas as pd\n",
        "from openpyxl import  load_workbook\n",
        "from openpyxl.styles import  Font,PatternFill\n",
        "\n",
        "file_list = [\"2022_年間売上表.xlsx\",\"2023_年間売上表.xlsx\"]\n",
        "\n",
        "df = pd.DataFrame()\n",
        "\n",
        "for file_name in file_list:\n",
        "  temp_df = pd.read_excel(file_name)\n",
        "\n",
        "  df = pd.concat([df,temp_df],ignore_index=True)\n",
        "\n",
        "df = df[df[\"売上年\"] != \"売上年\"]\n",
        "\n",
        "df[\"金額（千円）\"] = df[\"金額（千円）\"].apply(pd.to_numeric,errors=\"coerce\")\n",
        "df.dropna(subset=[\"金額（千円）\"],inplace=True)\n",
        "df[\"金額（千円）\"] = df[\"金額（千円）\"].astype(int)\n",
        "\n",
        "reesult = df.groupby([\"商品\",\"売上年\"])[\"金額（千円）\"].sum().reset_index()\n",
        "\n",
        "file_name = \"売上集計表.xlsx\"\n",
        "\n",
        "reesult.to_excel(file_name,sheet_name=\"sheet1\",index=False)\n",
        "\n",
        "wb = load_workbook(file_name)\n",
        "ws = wb[\"sheet1\"]\n",
        "\n",
        "column_widths = {\n",
        "    \"A\":20,\n",
        "    \"B\":15,\n",
        "    \"C\":15\n",
        "}\n",
        "\n",
        "for col,width in column_widths.items():\n",
        "  ws.column_dimensions[col].width = width\n",
        "\n",
        "header_fill = PatternFill(start_color=\"F2F2F2\",end_color=\"F2F2F2\",fill_type=\"solid\")\n",
        "\n",
        "for cell in ws[1]:\n",
        "    cell.fill = header_fill\n",
        "\n",
        "bold_font = Font(bold=True,size=14)\n",
        "\n",
        "for row in ws.iter_rows(min_row=1,max_row=ws.max_row,min_col=1,max_col=ws.max_column):\n",
        "  for cell in row:\n",
        "      cell.font = bold_font\n",
        "\n",
        "reesult.to_excel(\"売上集計表.xlsx\",sheet_name=\"sheet1\",index=False)\n",
        "\n",
        "wb.save(file_name)"
      ]
    }
  ]
}